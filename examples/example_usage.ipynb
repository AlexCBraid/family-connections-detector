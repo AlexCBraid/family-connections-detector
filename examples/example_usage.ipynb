{
 "cells": [
  {
   "cell_type": "markdown",
   "metadata": {},
   "source": [
    "# Family Connections Detector - Example Usage\n",
    "\n",
    "This notebook demonstrates how to use the Family Connections Detector package to analyze potential family relationships between corporate officers."
   ]
  },
  {
   "cell_type": "code",
   "execution_count": null,
   "metadata": {},
   "source": [
    "from family_connections import FamilyConnectionDetector\n",
    "import pandas as pd\n",
    "from datetime import datetime"
   ]
  },
  {
   "cell_type": "markdown",
   "metadata": {},
   "source": [
    "## Example 1: Gregory Distribution Limited Case Study"
   ]
  },
  {
   "cell_type": "code",
   "execution_count": null,
   "metadata": {},
   "source": [
    "# Initialize the detector\n",
    "detector = FamilyConnectionDetector()\n",
    "\n",
    "# Create test data based on real company information\n",
    "william_gregory = {\n",
    "    'full_name': 'William John Gregory',\n",
    "    'middle_names': ['John'],\n",
    "    'date_of_birth': '1924-10-01',  # October 1924\n",
    "    'roles': [\n",
    "        {\n",
    "            'company_number': '01329163',\n",
    "            'role_type': 'Director',\n",
    "            'appointed_before': '1992-01-12',\n",
    "            'resigned_on': '2010-07-29'\n",
    "        }\n",
    "    ],\n",
    "    'company_name': 'GREGORY DISTRIBUTION LIMITED',\n",
    "    'surname': 'Gregory',\n",
    "    'address': {\n",
    "        'full_address': 'Senate Court, Southernhay Gardens, Exeter, Devon, EX1 1NT'\n",
    "    }\n",
    "}\n",
    "\n",
    "john_gregory = {\n",
    "    'full_name': 'John Kennedy Gregory',\n",
    "    'middle_names': ['Kennedy'],\n",
    "    'date_of_birth': '1958-03-01',  # March 1958\n",
    "    'roles': [\n",
    "        {\n",
    "            'company_number': '01329163',\n",
    "            'role_type': 'Director',\n",
    "            'appointed_before': '1992-01-12'\n",
    "        }\n",
    "    ],\n",
    "    'company_name': 'GREGORY DISTRIBUTION LIMITED',\n",
    "    'surname': 'Gregory',\n",
    "    'address': {\n",
    "        'full_address': 'Senate Court, Southernhay Gardens, Exeter, Devon, EX1 1NT'\n",
    "    }\n",
    "}\n",
    "\n",
    "# Calculate connection score\n",
    "result = detector.calculate_connection_score(william_gregory, john_gregory)\n",
    "\n",
    "# Display results\n",
    "print(\"Family Connection Analysis Results:\\n\")\n",
    "print(f\"Total Score: {result['total_score']}\")\n",
    "print(\"\\nReasons:\")\n",
    "for reason in result['reasons']:\n",
    "    print(f\"- {reason}\")\n",
    "print(f\"\\nConfidence: {result['confidence']}\")"
   ]
  },
  {
   "cell_type": "markdown",
   "metadata": {},
   "source": [
    "## Example 2: Analyzing Multiple Officers"
   ]
  },
  {
   "cell_type": "code",
   "execution_count": null,
   "metadata": {},
   "source": [
    "def analyze_officer_group(officers):\n",
    "    \"\"\"Analyze all possible pairs in a group of officers\"\"\"\n",
    "    results = []\n",
    "    \n",
    "    for i in range(len(officers)):\n",
    "        for j in range(i + 1, len(officers)):\n",
    "            result = detector.calculate_connection_score(officers[i], officers[j])\n",
    "            results.append({\n",
    "                'officer1': officers[i]['full_name'],\n",
    "                'officer2': officers[j]['full_name'],\n",
    "                'score': result['total_score'],\n",
    "                'confidence': result['confidence'],\n",
    "                'reasons': result['reasons']\n",
    "            })\n",
    "    \n",
    "    return pd.DataFrame(results)\n",
    "\n",
    "# Example usage:\n",
    "officers = [william_gregory, john_gregory]  # Add more officers as needed\n",
    "results_df = analyze_officer_group(officers)\n",
    "display(results_df)"
   ]
  },
  {
   "cell_type": "markdown",
   "metadata": {},
   "source": [
    "## Example 3: Working with Companies House Data\n",
    "\n",
    "Example of how to process data from Companies House API or bulk data products."
   ]
  },
  {
   "cell_type": "code",
   "execution_count": null,
   "metadata": {},
   "source": [
    "def process_companies_house_officer(officer_data):\n",
    "    \"\"\"Convert Companies House officer data format to detector format\"\"\"\n",
    "    return {\n",
    "        'full_name': f\"{officer_data.get('name', '')}\",\n",
    "        'middle_names': officer_data.get('middle_names', []),\n",
    "        'date_of_birth': officer_data.get('date_of_birth'),\n",
    "        'roles': [{\n",
    "            'company_number': officer_data.get('company_number'),\n",
    "            'role_type': officer_data.get('role'),\n",
    "            'appointed_on': officer_data.get('appointed_on'),\n",
    "            'resigned_on': officer_data.get('resigned_on')\n",
    "        }],\n",
    "        'address': {\n",
    "            'full_address': officer_data.get('address', {})\n",
    "        },\n",
    "        'company_name': officer_data.get('company_name')\n",
    "    }\n",
    "\n",
    "# Example usage with Companies House data:\n",
    "# companies_house_data = ... # Your data loading logic here\n",
    "# processed_officers = [process_companies_house_officer(officer) for officer in companies_house_data]\n",
    "# results = analyze_officer_group(processed_officers)"
   ]
  }
 ],
 "metadata": {
  "kernelspec": {
   "display_name": "Python 3",
   "language": "python",
   "name": "python3"
  },
  "language_info": {
   "codemirror_mode": {
    "name": "ipython",
    "version": 3
   },
   "file_extension": ".py",
   "mimetype": "text/x-python",
   "name": "python",
   "nbconvert_exporter": "python",
   "pygments_lexer": "ipython3",
   "version": "3.8.0"
  }
 },
 "nbformat": 4,
 "nbformat_minor": 4
}
